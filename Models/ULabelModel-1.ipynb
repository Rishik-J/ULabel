{
  "nbformat": 4,
  "nbformat_minor": 0,
  "metadata": {
    "colab": {
      "provenance": [],
      "collapsed_sections": []
    },
    "kernelspec": {
      "name": "python3",
      "display_name": "Python 3"
    },
    "language_info": {
      "name": "python"
    },
    "accelerator": "GPU"
  },
  "cells": [
    {
      "cell_type": "code",
      "source": [
        "!pip install spotipy"
      ],
      "metadata": {
        "colab": {
          "base_uri": "https://localhost:8080/"
        },
        "id": "nhob_w3dup1E",
        "outputId": "2c5d7b50-6950-4df4-e136-87a2422cafde"
      },
      "execution_count": null,
      "outputs": [
        {
          "output_type": "stream",
          "name": "stdout",
          "text": [
            "Looking in indexes: https://pypi.org/simple, https://us-python.pkg.dev/colab-wheels/public/simple/\n",
            "Collecting spotipy\n",
            "  Downloading spotipy-2.20.0-py3-none-any.whl (27 kB)\n",
            "Requirement already satisfied: six>=1.15.0 in /usr/local/lib/python3.7/dist-packages (from spotipy) (1.15.0)\n",
            "Collecting requests>=2.25.0\n",
            "  Downloading requests-2.28.1-py3-none-any.whl (62 kB)\n",
            "\u001b[K     |████████████████████████████████| 62 kB 1.2 MB/s \n",
            "\u001b[?25hCollecting urllib3>=1.26.0\n",
            "  Downloading urllib3-1.26.12-py2.py3-none-any.whl (140 kB)\n",
            "\u001b[K     |████████████████████████████████| 140 kB 25.9 MB/s \n",
            "\u001b[?25hCollecting redis>=3.5.3\n",
            "  Downloading redis-4.3.4-py3-none-any.whl (246 kB)\n",
            "\u001b[K     |████████████████████████████████| 246 kB 66.4 MB/s \n",
            "\u001b[?25hRequirement already satisfied: typing-extensions in /usr/local/lib/python3.7/dist-packages (from redis>=3.5.3->spotipy) (4.1.1)\n",
            "Requirement already satisfied: importlib-metadata>=1.0 in /usr/local/lib/python3.7/dist-packages (from redis>=3.5.3->spotipy) (5.0.0)\n",
            "Requirement already satisfied: async-timeout>=4.0.2 in /usr/local/lib/python3.7/dist-packages (from redis>=3.5.3->spotipy) (4.0.2)\n",
            "Requirement already satisfied: packaging>=20.4 in /usr/local/lib/python3.7/dist-packages (from redis>=3.5.3->spotipy) (21.3)\n",
            "Collecting deprecated>=1.2.3\n",
            "  Downloading Deprecated-1.2.13-py2.py3-none-any.whl (9.6 kB)\n",
            "Requirement already satisfied: wrapt<2,>=1.10 in /usr/local/lib/python3.7/dist-packages (from deprecated>=1.2.3->redis>=3.5.3->spotipy) (1.14.1)\n",
            "Requirement already satisfied: zipp>=0.5 in /usr/local/lib/python3.7/dist-packages (from importlib-metadata>=1.0->redis>=3.5.3->spotipy) (3.9.0)\n",
            "Requirement already satisfied: pyparsing!=3.0.5,>=2.0.2 in /usr/local/lib/python3.7/dist-packages (from packaging>=20.4->redis>=3.5.3->spotipy) (3.0.9)\n",
            "Requirement already satisfied: idna<4,>=2.5 in /usr/local/lib/python3.7/dist-packages (from requests>=2.25.0->spotipy) (2.10)\n",
            "Requirement already satisfied: charset-normalizer<3,>=2 in /usr/local/lib/python3.7/dist-packages (from requests>=2.25.0->spotipy) (2.1.1)\n",
            "Requirement already satisfied: certifi>=2017.4.17 in /usr/local/lib/python3.7/dist-packages (from requests>=2.25.0->spotipy) (2022.9.24)\n",
            "Installing collected packages: urllib3, deprecated, requests, redis, spotipy\n",
            "  Attempting uninstall: urllib3\n",
            "    Found existing installation: urllib3 1.24.3\n",
            "    Uninstalling urllib3-1.24.3:\n",
            "      Successfully uninstalled urllib3-1.24.3\n",
            "  Attempting uninstall: requests\n",
            "    Found existing installation: requests 2.23.0\n",
            "    Uninstalling requests-2.23.0:\n",
            "      Successfully uninstalled requests-2.23.0\n",
            "Successfully installed deprecated-1.2.13 redis-4.3.4 requests-2.28.1 spotipy-2.20.0 urllib3-1.26.12\n"
          ]
        }
      ]
    },
    {
      "cell_type": "code",
      "execution_count": null,
      "metadata": {
        "id": "uVhH-9j-fwtC"
      },
      "outputs": [],
      "source": [
        "import spotipy\n",
        "from spotipy.oauth2 import SpotifyClientCredentials\n",
        "\n",
        "import numpy as np\n",
        "np.random.seed(42)\n",
        "\n",
        "import pandas as pd\n",
        "pd.set_option('display.max_columns', None)\n",
        "\n",
        "import ast"
      ]
    },
    {
      "cell_type": "code",
      "source": [
        "sp = spotipy.Spotify(client_credentials_manager=SpotifyClientCredentials(\n",
        "    client_id='4242fd58f1d04c198cad287715296466',\n",
        "    client_secret='a33e2be67e884f838d6debdb6e5ffb48'))\n",
        "sp.category('hiphop', country='US')"
      ],
      "metadata": {
        "colab": {
          "base_uri": "https://localhost:8080/"
        },
        "id": "F80A3EZcgC5O",
        "outputId": "51ac5201-1c69-4304-b86a-89eb60a9a8d7"
      },
      "execution_count": null,
      "outputs": [
        {
          "output_type": "execute_result",
          "data": {
            "text/plain": [
              "{'href': 'https://api.spotify.com/v1/browse/categories/hiphop',\n",
              " 'icons': [{'height': 274,\n",
              "   'url': 'https://t.scdn.co/media/original/hip-274_0a661854d61e29eace5fe63f73495e68_274x274.jpg',\n",
              "   'width': 274}],\n",
              " 'id': 'hiphop',\n",
              " 'name': 'Hip-Hop'}"
            ]
          },
          "metadata": {},
          "execution_count": 3
        }
      ]
    },
    {
      "cell_type": "code",
      "source": [
        "playlist_link = \"https://open.spotify.com/playlist/37i9dQZEVXbNG2KDcFcKOF?si=1333723a6eff4b7f\"\n",
        "playlist_URI = playlist_link.split(\"/\")[-1].split(\"?\")[0]\n",
        "track_uris = [x[\"track\"][\"uri\"] for x in sp.playlist_tracks(playlist_URI)[\"items\"]]\n",
        "len(track_uris)"
      ],
      "metadata": {
        "id": "Lf4VIc0dxEGN",
        "colab": {
          "base_uri": "https://localhost:8080/"
        },
        "outputId": "5a254cbf-703a-415a-f4a3-12e97019d654"
      },
      "execution_count": null,
      "outputs": [
        {
          "output_type": "execute_result",
          "data": {
            "text/plain": [
              "50"
            ]
          },
          "metadata": {},
          "execution_count": 4
        }
      ]
    },
    {
      "cell_type": "code",
      "source": [
        "playlist_link = \"https://open.spotify.com/playlist/37i9dQZF1DWUZv12GM5cFk\"\n",
        "playlist_URI2 = playlist_link.split(\"/\")[-1].split(\"?\")[0]\n",
        "track_uris2 = [x[\"track\"][\"uri\"] for x in sp.playlist_tracks(playlist_URI)[\"items\"]]"
      ],
      "metadata": {
        "id": "K9RHWQ67PHAB"
      },
      "execution_count": null,
      "outputs": []
    },
    {
      "cell_type": "code",
      "source": [
        "track_uris.extend(track_uris2)\n",
        "len(track_uris)"
      ],
      "metadata": {
        "colab": {
          "base_uri": "https://localhost:8080/"
        },
        "id": "0dNv6eITOzMV",
        "outputId": "34780e67-51d5-4718-bbde-9451c4dcde02"
      },
      "execution_count": null,
      "outputs": [
        {
          "output_type": "execute_result",
          "data": {
            "text/plain": [
              "100"
            ]
          },
          "metadata": {},
          "execution_count": 6
        }
      ]
    },
    {
      "cell_type": "code",
      "source": [
        "    ['Track Name', 'Genre', 'danceability', 'energy', 'key', 'loudness', 'mode', 'speechiness', 'acousticness', 'instrumentalness', 'liveness', 'valence', 'tempo', 'duration_ms']"
      ],
      "metadata": {
        "id": "IMjJ63ynqVpz",
        "colab": {
          "base_uri": "https://localhost:8080/"
        },
        "outputId": "cda33b0b-17ab-40d7-adbd-84c8d9660058"
      },
      "execution_count": null,
      "outputs": [
        {
          "output_type": "execute_result",
          "data": {
            "text/plain": [
              "['Track Name',\n",
              " 'Genre',\n",
              " 'danceability',\n",
              " 'energy',\n",
              " 'key',\n",
              " 'loudness',\n",
              " 'mode',\n",
              " 'speechiness',\n",
              " 'acousticness',\n",
              " 'instrumentalness',\n",
              " 'liveness',\n",
              " 'valence',\n",
              " 'tempo',\n",
              " 'duration_ms']"
            ]
          },
          "metadata": {},
          "execution_count": 7
        }
      ]
    },
    {
      "cell_type": "code",
      "source": [],
      "metadata": {
        "id": "ErN5YSHwNrPR"
      },
      "execution_count": null,
      "outputs": []
    },
    {
      "cell_type": "code",
      "source": [
        "df = pd.DataFrame(columns=['Track Name', 'Popularity', 'danceability', 'energy', 'key', 'loudness', 'mode', 'speechiness', 'acousticness', 'instrumentalness', 'liveness', 'valence', 'tempo', 'duration_ms'])"
      ],
      "metadata": {
        "id": "eGtJHeado33H"
      },
      "execution_count": null,
      "outputs": []
    },
    {
      "cell_type": "code",
      "source": [
        "for track in sp.playlist_tracks(playlist_URI)[\"items\"]:\n",
        "    #URI\n",
        "    track_uri = track[\"track\"][\"uri\"]\n",
        "    \n",
        "    #Track name\n",
        "    track_name = track[\"track\"][\"name\"]\n",
        "    \n",
        "    #Main Artist\n",
        "    artist_uri = track[\"track\"][\"artists\"][0][\"uri\"]\n",
        "    artist_info = sp.artist(artist_uri)\n",
        "    \n",
        "    #Name, popularity, genre\n",
        "    artist_name = track[\"track\"][\"artists\"][0][\"name\"]\n",
        "    artist_pop = artist_info[\"popularity\"]\n",
        "    artist_genres = artist_info[\"genres\"]\n",
        "    \n",
        "    #Album\n",
        "    album = track[\"track\"][\"album\"][\"name\"]\n",
        "    \n",
        "    #Popularity of the track\n",
        "    track_pop = track[\"track\"][\"popularity\"]\n",
        "\n",
        "    fetures = ['danceability', 'energy', 'key', 'loudness', 'mode', 'speechiness', 'acousticness', 'instrumentalness', 'liveness', 'valence', 'tempo', 'duration_ms']\n",
        "\n",
        "    # Audio Features\n",
        "    x = list(sp.audio_features(track_uri))\n",
        "    arr = []\n",
        "    arr.append(track_name)\n",
        "    arr.append(track_pop)\n",
        "    for el in fetures:\n",
        "      arr.append(x[0][el])\n",
        "    df.loc[len(df.index)] = arr"
      ],
      "metadata": {
        "id": "yeYkm5c7NwJv"
      },
      "execution_count": null,
      "outputs": []
    },
    {
      "cell_type": "code",
      "source": [
        "for track in sp.playlist_tracks(playlist_URI2)[\"items\"]:\n",
        "    #URI\n",
        "    track_uri = track[\"track\"][\"uri\"]\n",
        "    \n",
        "    #Track name\n",
        "    track_name = track[\"track\"][\"name\"]\n",
        "    \n",
        "    #Main Artist\n",
        "    artist_uri = track[\"track\"][\"artists\"][0][\"uri\"]\n",
        "    artist_info = sp.artist(artist_uri)\n",
        "    \n",
        "    #Name, popularity, genre\n",
        "    artist_name = track[\"track\"][\"artists\"][0][\"name\"]\n",
        "    artist_pop = artist_info[\"popularity\"]\n",
        "    artist_genres = artist_info[\"genres\"]\n",
        "    \n",
        "    #Album\n",
        "    album = track[\"track\"][\"album\"][\"name\"]\n",
        "    \n",
        "    #Popularity of the track\n",
        "    track_pop = track[\"track\"][\"popularity\"]\n",
        "\n",
        "    fetures = ['danceability', 'energy', 'key', 'loudness', 'mode', 'speechiness', 'acousticness', 'instrumentalness', 'liveness', 'valence', 'tempo', 'duration_ms']\n",
        "\n",
        "    # Audio Features\n",
        "    x = list(sp.audio_features(track_uri))\n",
        "    arr = []\n",
        "    arr.append(track_name)\n",
        "    arr.append(track_pop)\n",
        "    for el in fetures:\n",
        "      arr.append(x[0][el])\n",
        "    df.loc[len(df.index)] = arr"
      ],
      "metadata": {
        "id": "DgGbZHSatwoF"
      },
      "execution_count": null,
      "outputs": []
    },
    {
      "cell_type": "code",
      "source": [
        "df= df.drop_duplicates(keep='first')\n",
        "df.head()"
      ],
      "metadata": {
        "id": "WZIcXpDByC0X",
        "colab": {
          "base_uri": "https://localhost:8080/",
          "height": 426
        },
        "outputId": "7efc994a-a9bc-442c-a735-bfab2f91329d"
      },
      "execution_count": null,
      "outputs": [
        {
          "output_type": "execute_result",
          "data": {
            "text/plain": [
              "                              Track Name Popularity  danceability  energy key  \\\n",
              "0              Unholy (feat. Kim Petras)         99         0.714   0.472   2   \n",
              "1                        I'm Good (Blue)         98         0.561   0.965   7   \n",
              "2                              As It Was         93         0.520   0.731   6   \n",
              "3  Quevedo: Bzrp Music Sessions, Vol. 52        100         0.621   0.782   2   \n",
              "4                             La Bachata         98         0.835   0.679   7   \n",
              "\n",
              "   loudness mode  speechiness  acousticness  instrumentalness  liveness  \\\n",
              "0    -7.375    1       0.0864       0.01300          0.000005     0.266   \n",
              "1    -3.673    0       0.0343       0.00383          0.000007     0.371   \n",
              "2    -5.338    0       0.0557       0.34200          0.001010     0.311   \n",
              "3    -5.548    1       0.0440       0.01250          0.033000     0.230   \n",
              "4    -5.329    0       0.0364       0.58300          0.000002     0.218   \n",
              "\n",
              "   valence    tempo duration_ms  \n",
              "0    0.238  131.121      156943  \n",
              "1    0.304  128.040      175238  \n",
              "2    0.662  173.930      167303  \n",
              "3    0.550  128.033      198938  \n",
              "4    0.850  124.980      162638  "
            ],
            "text/html": [
              "\n",
              "  <div id=\"df-e6fa2d1d-5d31-4d91-9889-9cb3b3f65fba\">\n",
              "    <div class=\"colab-df-container\">\n",
              "      <div>\n",
              "<style scoped>\n",
              "    .dataframe tbody tr th:only-of-type {\n",
              "        vertical-align: middle;\n",
              "    }\n",
              "\n",
              "    .dataframe tbody tr th {\n",
              "        vertical-align: top;\n",
              "    }\n",
              "\n",
              "    .dataframe thead th {\n",
              "        text-align: right;\n",
              "    }\n",
              "</style>\n",
              "<table border=\"1\" class=\"dataframe\">\n",
              "  <thead>\n",
              "    <tr style=\"text-align: right;\">\n",
              "      <th></th>\n",
              "      <th>Track Name</th>\n",
              "      <th>Popularity</th>\n",
              "      <th>danceability</th>\n",
              "      <th>energy</th>\n",
              "      <th>key</th>\n",
              "      <th>loudness</th>\n",
              "      <th>mode</th>\n",
              "      <th>speechiness</th>\n",
              "      <th>acousticness</th>\n",
              "      <th>instrumentalness</th>\n",
              "      <th>liveness</th>\n",
              "      <th>valence</th>\n",
              "      <th>tempo</th>\n",
              "      <th>duration_ms</th>\n",
              "    </tr>\n",
              "  </thead>\n",
              "  <tbody>\n",
              "    <tr>\n",
              "      <th>0</th>\n",
              "      <td>Unholy (feat. Kim Petras)</td>\n",
              "      <td>99</td>\n",
              "      <td>0.714</td>\n",
              "      <td>0.472</td>\n",
              "      <td>2</td>\n",
              "      <td>-7.375</td>\n",
              "      <td>1</td>\n",
              "      <td>0.0864</td>\n",
              "      <td>0.01300</td>\n",
              "      <td>0.000005</td>\n",
              "      <td>0.266</td>\n",
              "      <td>0.238</td>\n",
              "      <td>131.121</td>\n",
              "      <td>156943</td>\n",
              "    </tr>\n",
              "    <tr>\n",
              "      <th>1</th>\n",
              "      <td>I'm Good (Blue)</td>\n",
              "      <td>98</td>\n",
              "      <td>0.561</td>\n",
              "      <td>0.965</td>\n",
              "      <td>7</td>\n",
              "      <td>-3.673</td>\n",
              "      <td>0</td>\n",
              "      <td>0.0343</td>\n",
              "      <td>0.00383</td>\n",
              "      <td>0.000007</td>\n",
              "      <td>0.371</td>\n",
              "      <td>0.304</td>\n",
              "      <td>128.040</td>\n",
              "      <td>175238</td>\n",
              "    </tr>\n",
              "    <tr>\n",
              "      <th>2</th>\n",
              "      <td>As It Was</td>\n",
              "      <td>93</td>\n",
              "      <td>0.520</td>\n",
              "      <td>0.731</td>\n",
              "      <td>6</td>\n",
              "      <td>-5.338</td>\n",
              "      <td>0</td>\n",
              "      <td>0.0557</td>\n",
              "      <td>0.34200</td>\n",
              "      <td>0.001010</td>\n",
              "      <td>0.311</td>\n",
              "      <td>0.662</td>\n",
              "      <td>173.930</td>\n",
              "      <td>167303</td>\n",
              "    </tr>\n",
              "    <tr>\n",
              "      <th>3</th>\n",
              "      <td>Quevedo: Bzrp Music Sessions, Vol. 52</td>\n",
              "      <td>100</td>\n",
              "      <td>0.621</td>\n",
              "      <td>0.782</td>\n",
              "      <td>2</td>\n",
              "      <td>-5.548</td>\n",
              "      <td>1</td>\n",
              "      <td>0.0440</td>\n",
              "      <td>0.01250</td>\n",
              "      <td>0.033000</td>\n",
              "      <td>0.230</td>\n",
              "      <td>0.550</td>\n",
              "      <td>128.033</td>\n",
              "      <td>198938</td>\n",
              "    </tr>\n",
              "    <tr>\n",
              "      <th>4</th>\n",
              "      <td>La Bachata</td>\n",
              "      <td>98</td>\n",
              "      <td>0.835</td>\n",
              "      <td>0.679</td>\n",
              "      <td>7</td>\n",
              "      <td>-5.329</td>\n",
              "      <td>0</td>\n",
              "      <td>0.0364</td>\n",
              "      <td>0.58300</td>\n",
              "      <td>0.000002</td>\n",
              "      <td>0.218</td>\n",
              "      <td>0.850</td>\n",
              "      <td>124.980</td>\n",
              "      <td>162638</td>\n",
              "    </tr>\n",
              "  </tbody>\n",
              "</table>\n",
              "</div>\n",
              "      <button class=\"colab-df-convert\" onclick=\"convertToInteractive('df-e6fa2d1d-5d31-4d91-9889-9cb3b3f65fba')\"\n",
              "              title=\"Convert this dataframe to an interactive table.\"\n",
              "              style=\"display:none;\">\n",
              "        \n",
              "  <svg xmlns=\"http://www.w3.org/2000/svg\" height=\"24px\"viewBox=\"0 0 24 24\"\n",
              "       width=\"24px\">\n",
              "    <path d=\"M0 0h24v24H0V0z\" fill=\"none\"/>\n",
              "    <path d=\"M18.56 5.44l.94 2.06.94-2.06 2.06-.94-2.06-.94-.94-2.06-.94 2.06-2.06.94zm-11 1L8.5 8.5l.94-2.06 2.06-.94-2.06-.94L8.5 2.5l-.94 2.06-2.06.94zm10 10l.94 2.06.94-2.06 2.06-.94-2.06-.94-.94-2.06-.94 2.06-2.06.94z\"/><path d=\"M17.41 7.96l-1.37-1.37c-.4-.4-.92-.59-1.43-.59-.52 0-1.04.2-1.43.59L10.3 9.45l-7.72 7.72c-.78.78-.78 2.05 0 2.83L4 21.41c.39.39.9.59 1.41.59.51 0 1.02-.2 1.41-.59l7.78-7.78 2.81-2.81c.8-.78.8-2.07 0-2.86zM5.41 20L4 18.59l7.72-7.72 1.47 1.35L5.41 20z\"/>\n",
              "  </svg>\n",
              "      </button>\n",
              "      \n",
              "  <style>\n",
              "    .colab-df-container {\n",
              "      display:flex;\n",
              "      flex-wrap:wrap;\n",
              "      gap: 12px;\n",
              "    }\n",
              "\n",
              "    .colab-df-convert {\n",
              "      background-color: #E8F0FE;\n",
              "      border: none;\n",
              "      border-radius: 50%;\n",
              "      cursor: pointer;\n",
              "      display: none;\n",
              "      fill: #1967D2;\n",
              "      height: 32px;\n",
              "      padding: 0 0 0 0;\n",
              "      width: 32px;\n",
              "    }\n",
              "\n",
              "    .colab-df-convert:hover {\n",
              "      background-color: #E2EBFA;\n",
              "      box-shadow: 0px 1px 2px rgba(60, 64, 67, 0.3), 0px 1px 3px 1px rgba(60, 64, 67, 0.15);\n",
              "      fill: #174EA6;\n",
              "    }\n",
              "\n",
              "    [theme=dark] .colab-df-convert {\n",
              "      background-color: #3B4455;\n",
              "      fill: #D2E3FC;\n",
              "    }\n",
              "\n",
              "    [theme=dark] .colab-df-convert:hover {\n",
              "      background-color: #434B5C;\n",
              "      box-shadow: 0px 1px 3px 1px rgba(0, 0, 0, 0.15);\n",
              "      filter: drop-shadow(0px 1px 2px rgba(0, 0, 0, 0.3));\n",
              "      fill: #FFFFFF;\n",
              "    }\n",
              "  </style>\n",
              "\n",
              "      <script>\n",
              "        const buttonEl =\n",
              "          document.querySelector('#df-e6fa2d1d-5d31-4d91-9889-9cb3b3f65fba button.colab-df-convert');\n",
              "        buttonEl.style.display =\n",
              "          google.colab.kernel.accessAllowed ? 'block' : 'none';\n",
              "\n",
              "        async function convertToInteractive(key) {\n",
              "          const element = document.querySelector('#df-e6fa2d1d-5d31-4d91-9889-9cb3b3f65fba');\n",
              "          const dataTable =\n",
              "            await google.colab.kernel.invokeFunction('convertToInteractive',\n",
              "                                                     [key], {});\n",
              "          if (!dataTable) return;\n",
              "\n",
              "          const docLinkHtml = 'Like what you see? Visit the ' +\n",
              "            '<a target=\"_blank\" href=https://colab.research.google.com/notebooks/data_table.ipynb>data table notebook</a>'\n",
              "            + ' to learn more about interactive tables.';\n",
              "          element.innerHTML = '';\n",
              "          dataTable['output_type'] = 'display_data';\n",
              "          await google.colab.output.renderOutput(dataTable, element);\n",
              "          const docLink = document.createElement('div');\n",
              "          docLink.innerHTML = docLinkHtml;\n",
              "          element.appendChild(docLink);\n",
              "        }\n",
              "      </script>\n",
              "    </div>\n",
              "  </div>\n",
              "  "
            ]
          },
          "metadata": {},
          "execution_count": 11
        }
      ]
    },
    {
      "cell_type": "code",
      "source": [
        "# Building Neural Network\n",
        "import tensorflow as tf\n",
        "from keras.models import Sequential\n",
        "from keras.layers import Dense\n",
        "from sklearn.model_selection import train_test_split"
      ],
      "metadata": {
        "id": "V_acjz0PyMpc"
      },
      "execution_count": null,
      "outputs": []
    },
    {
      "cell_type": "code",
      "source": [
        "dfnn = df.drop(['Track Name'], axis=1)\n",
        "train, test = train_test_split(dfnn, test_size=0.2, train_size=0.8, random_state=None, shuffle=True, stratify=None)"
      ],
      "metadata": {
        "id": "m9SBok0T7Nvv"
      },
      "execution_count": null,
      "outputs": []
    },
    {
      "cell_type": "code",
      "source": [
        "print(test.shape)\n",
        "print(train.shape)"
      ],
      "metadata": {
        "colab": {
          "base_uri": "https://localhost:8080/"
        },
        "id": "SRSOemy8AfSQ",
        "outputId": "9ef6f8ea-e6c2-444d-e83b-901a3e08384a"
      },
      "execution_count": null,
      "outputs": [
        {
          "output_type": "stream",
          "name": "stdout",
          "text": [
            "(30, 13)\n",
            "(120, 13)\n"
          ]
        }
      ]
    },
    {
      "cell_type": "code",
      "source": [
        "x_train = train.drop(['Popularity'], axis=1)\n",
        "y_train = train['Popularity']\n",
        "x_test = test.drop(['Popularity'], axis=1)\n",
        "y_test = test['Popularity']"
      ],
      "metadata": {
        "id": "s8n861m1eSKC"
      },
      "execution_count": null,
      "outputs": []
    },
    {
      "cell_type": "code",
      "source": [
        "from sklearn.preprocessing import StandardScaler\n",
        "scaler = StandardScaler().fit(train)\n",
        "scaler2 = StandardScaler().fit(test)\n",
        "x_train = scaler.transform(train)\n",
        "y_train = scaler.transform(train)\n",
        "x_test = scaler2.transform(test)\n",
        "y_test = scaler2.transform(test)"
      ],
      "metadata": {
        "id": "B3GYYyRI83_n"
      },
      "execution_count": null,
      "outputs": []
    },
    {
      "cell_type": "code",
      "source": [
        "print(x_train.shape)\n",
        "print(y_train.shape)\n",
        "print(x_test.shape)\n",
        "print(y_test.shape)"
      ],
      "metadata": {
        "colab": {
          "base_uri": "https://localhost:8080/"
        },
        "id": "hBAnaW0Og6hM",
        "outputId": "93d8176e-fb00-483e-9260-b3d8407f7d5c"
      },
      "execution_count": null,
      "outputs": [
        {
          "output_type": "stream",
          "name": "stdout",
          "text": [
            "(120, 13)\n",
            "(120, 13)\n",
            "(30, 13)\n",
            "(30, 13)\n"
          ]
        }
      ]
    },
    {
      "cell_type": "code",
      "source": [
        "model = Sequential()\n",
        "model.add(Dense(100, activation='elu'))\n",
        "model.add(Dense(80, activation='relu'))\n",
        "model.add(Dense(60, activation='gelu'))\n",
        "model.add(Dense(40, activation='relu'))\n",
        "model.add(Dense(20, activation='gelu'))\n",
        "model.add(Dense(24, activation='relu'))\n",
        "model.add(Dense(20, activation='gelu'))\n",
        "model.add(Dense(13, activation='sigmoid'))\n",
        "model.compile(loss='MeanAbsoluteError',\n",
        "optimizer='adamax',\n",
        "metrics=['MeanSquaredError'])\n",
        "model.fit(x_train, y_train, epochs=80, batch_size=1, verbose=1)"
      ],
      "metadata": {
        "id": "8goiexSD_MLI",
        "colab": {
          "base_uri": "https://localhost:8080/"
        },
        "outputId": "e3e08376-1882-4484-d0a6-f7bd7f729005"
      },
      "execution_count": null,
      "outputs": [
        {
          "output_type": "stream",
          "name": "stdout",
          "text": [
            "Epoch 1/80\n",
            "120/120 [==============================] - 2s 3ms/step - loss: 0.9108 - mean_squared_error: 1.2282\n",
            "Epoch 2/80\n",
            "120/120 [==============================] - 0s 2ms/step - loss: 0.8411 - mean_squared_error: 1.1112\n",
            "Epoch 3/80\n",
            "120/120 [==============================] - 0s 2ms/step - loss: 0.7844 - mean_squared_error: 1.0352\n",
            "Epoch 4/80\n",
            "120/120 [==============================] - 0s 2ms/step - loss: 0.7601 - mean_squared_error: 0.9868\n",
            "Epoch 5/80\n",
            "120/120 [==============================] - 0s 2ms/step - loss: 0.7457 - mean_squared_error: 0.9621\n",
            "Epoch 6/80\n",
            "120/120 [==============================] - 0s 2ms/step - loss: 0.7323 - mean_squared_error: 0.9421\n",
            "Epoch 7/80\n",
            "120/120 [==============================] - 0s 2ms/step - loss: 0.7203 - mean_squared_error: 0.9201\n",
            "Epoch 8/80\n",
            "120/120 [==============================] - 0s 2ms/step - loss: 0.7105 - mean_squared_error: 0.9005\n",
            "Epoch 9/80\n",
            "120/120 [==============================] - 0s 2ms/step - loss: 0.7034 - mean_squared_error: 0.8929\n",
            "Epoch 10/80\n",
            "120/120 [==============================] - 0s 2ms/step - loss: 0.6979 - mean_squared_error: 0.8821\n",
            "Epoch 11/80\n",
            "120/120 [==============================] - 0s 2ms/step - loss: 0.6933 - mean_squared_error: 0.8762\n",
            "Epoch 12/80\n",
            "120/120 [==============================] - 0s 2ms/step - loss: 0.6879 - mean_squared_error: 0.8656\n",
            "Epoch 13/80\n",
            "120/120 [==============================] - 0s 2ms/step - loss: 0.6845 - mean_squared_error: 0.8587\n",
            "Epoch 14/80\n",
            "120/120 [==============================] - 0s 2ms/step - loss: 0.6807 - mean_squared_error: 0.8496\n",
            "Epoch 15/80\n",
            "120/120 [==============================] - 0s 2ms/step - loss: 0.6760 - mean_squared_error: 0.8430\n",
            "Epoch 16/80\n",
            "120/120 [==============================] - 0s 2ms/step - loss: 0.6745 - mean_squared_error: 0.8381\n",
            "Epoch 17/80\n",
            "120/120 [==============================] - 0s 2ms/step - loss: 0.6720 - mean_squared_error: 0.8329\n",
            "Epoch 18/80\n",
            "120/120 [==============================] - 0s 2ms/step - loss: 0.6701 - mean_squared_error: 0.8290\n",
            "Epoch 19/80\n",
            "120/120 [==============================] - 0s 2ms/step - loss: 0.6689 - mean_squared_error: 0.8267\n",
            "Epoch 20/80\n",
            "120/120 [==============================] - 0s 2ms/step - loss: 0.6677 - mean_squared_error: 0.8246\n",
            "Epoch 21/80\n",
            "120/120 [==============================] - 0s 2ms/step - loss: 0.6658 - mean_squared_error: 0.8220\n",
            "Epoch 22/80\n",
            "120/120 [==============================] - 0s 2ms/step - loss: 0.6649 - mean_squared_error: 0.8203\n",
            "Epoch 23/80\n",
            "120/120 [==============================] - 0s 2ms/step - loss: 0.6633 - mean_squared_error: 0.8183\n",
            "Epoch 24/80\n",
            "120/120 [==============================] - 0s 2ms/step - loss: 0.6618 - mean_squared_error: 0.8155\n",
            "Epoch 25/80\n",
            "120/120 [==============================] - 0s 2ms/step - loss: 0.6613 - mean_squared_error: 0.8153\n",
            "Epoch 26/80\n",
            "120/120 [==============================] - 0s 2ms/step - loss: 0.6610 - mean_squared_error: 0.8148\n",
            "Epoch 27/80\n",
            "120/120 [==============================] - 0s 2ms/step - loss: 0.6599 - mean_squared_error: 0.8127\n",
            "Epoch 28/80\n",
            "120/120 [==============================] - 0s 2ms/step - loss: 0.6590 - mean_squared_error: 0.8114\n",
            "Epoch 29/80\n",
            "120/120 [==============================] - 0s 2ms/step - loss: 0.6573 - mean_squared_error: 0.8095\n",
            "Epoch 30/80\n",
            "120/120 [==============================] - 0s 2ms/step - loss: 0.6572 - mean_squared_error: 0.8087\n",
            "Epoch 31/80\n",
            "120/120 [==============================] - 0s 2ms/step - loss: 0.6555 - mean_squared_error: 0.8076\n",
            "Epoch 32/80\n",
            "120/120 [==============================] - 0s 2ms/step - loss: 0.6558 - mean_squared_error: 0.8079\n",
            "Epoch 33/80\n",
            "120/120 [==============================] - 0s 2ms/step - loss: 0.6556 - mean_squared_error: 0.8064\n",
            "Epoch 34/80\n",
            "120/120 [==============================] - 0s 2ms/step - loss: 0.6540 - mean_squared_error: 0.8049\n",
            "Epoch 35/80\n",
            "120/120 [==============================] - 0s 2ms/step - loss: 0.6529 - mean_squared_error: 0.8037\n",
            "Epoch 36/80\n",
            "120/120 [==============================] - 0s 2ms/step - loss: 0.6535 - mean_squared_error: 0.8038\n",
            "Epoch 37/80\n",
            "120/120 [==============================] - 0s 2ms/step - loss: 0.6517 - mean_squared_error: 0.8024\n",
            "Epoch 38/80\n",
            "120/120 [==============================] - 0s 2ms/step - loss: 0.6512 - mean_squared_error: 0.8009\n",
            "Epoch 39/80\n",
            "120/120 [==============================] - 0s 2ms/step - loss: 0.6500 - mean_squared_error: 0.8000\n",
            "Epoch 40/80\n",
            "120/120 [==============================] - 0s 2ms/step - loss: 0.6499 - mean_squared_error: 0.7988\n",
            "Epoch 41/80\n",
            "120/120 [==============================] - 0s 2ms/step - loss: 0.6497 - mean_squared_error: 0.7999\n",
            "Epoch 42/80\n",
            "120/120 [==============================] - 0s 2ms/step - loss: 0.6491 - mean_squared_error: 0.7969\n",
            "Epoch 43/80\n",
            "120/120 [==============================] - 0s 2ms/step - loss: 0.6482 - mean_squared_error: 0.7970\n",
            "Epoch 44/80\n",
            "120/120 [==============================] - 0s 2ms/step - loss: 0.6464 - mean_squared_error: 0.7945\n",
            "Epoch 45/80\n",
            "120/120 [==============================] - 0s 2ms/step - loss: 0.6471 - mean_squared_error: 0.7963\n",
            "Epoch 46/80\n",
            "120/120 [==============================] - 0s 2ms/step - loss: 0.6456 - mean_squared_error: 0.7928\n",
            "Epoch 47/80\n",
            "120/120 [==============================] - 0s 2ms/step - loss: 0.6459 - mean_squared_error: 0.7940\n",
            "Epoch 48/80\n",
            "120/120 [==============================] - 0s 2ms/step - loss: 0.6455 - mean_squared_error: 0.7933\n",
            "Epoch 49/80\n",
            "120/120 [==============================] - 0s 2ms/step - loss: 0.6451 - mean_squared_error: 0.7922\n",
            "Epoch 50/80\n",
            "120/120 [==============================] - 0s 2ms/step - loss: 0.6449 - mean_squared_error: 0.7911\n",
            "Epoch 51/80\n",
            "120/120 [==============================] - 0s 2ms/step - loss: 0.6441 - mean_squared_error: 0.7912\n",
            "Epoch 52/80\n",
            "120/120 [==============================] - 0s 2ms/step - loss: 0.6426 - mean_squared_error: 0.7891\n",
            "Epoch 53/80\n",
            "120/120 [==============================] - 0s 2ms/step - loss: 0.6427 - mean_squared_error: 0.7892\n",
            "Epoch 54/80\n",
            "120/120 [==============================] - 0s 2ms/step - loss: 0.6418 - mean_squared_error: 0.7877\n",
            "Epoch 55/80\n",
            "120/120 [==============================] - 0s 2ms/step - loss: 0.6409 - mean_squared_error: 0.7864\n",
            "Epoch 56/80\n",
            "120/120 [==============================] - 0s 2ms/step - loss: 0.6424 - mean_squared_error: 0.7874\n",
            "Epoch 57/80\n",
            "120/120 [==============================] - 0s 2ms/step - loss: 0.6416 - mean_squared_error: 0.7874\n",
            "Epoch 58/80\n",
            "120/120 [==============================] - 0s 2ms/step - loss: 0.6404 - mean_squared_error: 0.7858\n",
            "Epoch 59/80\n",
            "120/120 [==============================] - 0s 2ms/step - loss: 0.6384 - mean_squared_error: 0.7843\n",
            "Epoch 60/80\n",
            "120/120 [==============================] - 0s 2ms/step - loss: 0.6396 - mean_squared_error: 0.7845\n",
            "Epoch 61/80\n",
            "120/120 [==============================] - 0s 2ms/step - loss: 0.6376 - mean_squared_error: 0.7844\n",
            "Epoch 62/80\n",
            "120/120 [==============================] - 0s 2ms/step - loss: 0.6369 - mean_squared_error: 0.7817\n",
            "Epoch 63/80\n",
            "120/120 [==============================] - 0s 2ms/step - loss: 0.6366 - mean_squared_error: 0.7816\n",
            "Epoch 64/80\n",
            "120/120 [==============================] - 0s 2ms/step - loss: 0.6365 - mean_squared_error: 0.7797\n",
            "Epoch 65/80\n",
            "120/120 [==============================] - 0s 2ms/step - loss: 0.6357 - mean_squared_error: 0.7792\n",
            "Epoch 66/80\n",
            "120/120 [==============================] - 0s 2ms/step - loss: 0.6351 - mean_squared_error: 0.7793\n",
            "Epoch 67/80\n",
            "120/120 [==============================] - 0s 2ms/step - loss: 0.6341 - mean_squared_error: 0.7777\n",
            "Epoch 68/80\n",
            "120/120 [==============================] - 0s 2ms/step - loss: 0.6345 - mean_squared_error: 0.7776\n",
            "Epoch 69/80\n",
            "120/120 [==============================] - 0s 2ms/step - loss: 0.6345 - mean_squared_error: 0.7767\n",
            "Epoch 70/80\n",
            "120/120 [==============================] - 0s 2ms/step - loss: 0.6343 - mean_squared_error: 0.7761\n",
            "Epoch 71/80\n",
            "120/120 [==============================] - 0s 2ms/step - loss: 0.6317 - mean_squared_error: 0.7747\n",
            "Epoch 72/80\n",
            "120/120 [==============================] - 0s 2ms/step - loss: 0.6318 - mean_squared_error: 0.7731\n",
            "Epoch 73/80\n",
            "120/120 [==============================] - 0s 2ms/step - loss: 0.6324 - mean_squared_error: 0.7741\n",
            "Epoch 74/80\n",
            "120/120 [==============================] - 0s 2ms/step - loss: 0.6311 - mean_squared_error: 0.7716\n",
            "Epoch 75/80\n",
            "120/120 [==============================] - 0s 2ms/step - loss: 0.6310 - mean_squared_error: 0.7718\n",
            "Epoch 76/80\n",
            "120/120 [==============================] - 0s 2ms/step - loss: 0.6309 - mean_squared_error: 0.7721\n",
            "Epoch 77/80\n",
            "120/120 [==============================] - 0s 2ms/step - loss: 0.6314 - mean_squared_error: 0.7715\n",
            "Epoch 78/80\n",
            "120/120 [==============================] - 0s 2ms/step - loss: 0.6305 - mean_squared_error: 0.7706\n",
            "Epoch 79/80\n",
            "120/120 [==============================] - 0s 2ms/step - loss: 0.6308 - mean_squared_error: 0.7710\n",
            "Epoch 80/80\n",
            "120/120 [==============================] - 0s 2ms/step - loss: 0.6295 - mean_squared_error: 0.7690\n"
          ]
        },
        {
          "output_type": "execute_result",
          "data": {
            "text/plain": [
              "<keras.callbacks.History at 0x7f0853f0fd50>"
            ]
          },
          "metadata": {},
          "execution_count": 39
        }
      ]
    },
    {
      "cell_type": "code",
      "source": [
        "normalized_df=(dfnn-dfnn.mean())/dfnn.std()"
      ],
      "metadata": {
        "id": "R--gLMfY7jEm"
      },
      "execution_count": null,
      "outputs": []
    },
    {
      "cell_type": "code",
      "source": [
        "type(normalized_df)"
      ],
      "metadata": {
        "colab": {
          "base_uri": "https://localhost:8080/"
        },
        "id": "l_IWV6vH-EcH",
        "outputId": "8790ef27-c054-4f4e-8b1f-cf0c14e21293"
      },
      "execution_count": null,
      "outputs": [
        {
          "output_type": "execute_result",
          "data": {
            "text/plain": [
              "numpy.ndarray"
            ]
          },
          "metadata": {},
          "execution_count": 47
        }
      ]
    },
    {
      "cell_type": "code",
      "source": [
        "# copy the data\n",
        "df_max_scaled = dfnn.copy()\n",
        "  \n",
        "# apply normalization techniques\n",
        "for column in df_max_scaled.columns:\n",
        "    df_max_scaled[column] = df_max_scaled[column]  / df_max_scaled[column].abs().max()"
      ],
      "metadata": {
        "id": "vQMVtMCmCq8b"
      },
      "execution_count": null,
      "outputs": []
    },
    {
      "cell_type": "code",
      "source": [
        "df_max_scaled"
      ],
      "metadata": {
        "colab": {
          "base_uri": "https://localhost:8080/",
          "height": 488
        },
        "id": "c8wl1zpODAB2",
        "outputId": "66961b85-7d0f-4520-928d-8b2212c4e1e4"
      },
      "execution_count": null,
      "outputs": [
        {
          "output_type": "execute_result",
          "data": {
            "text/plain": [
              "    Popularity  danceability    energy       key  loudness mode  speechiness  \\\n",
              "0         0.99      0.750789  0.480652  0.181818 -0.561990  1.0     0.248991   \n",
              "1         0.98      0.589905  0.982688  0.636364 -0.279890  0.0     0.098847   \n",
              "2         0.93      0.546793  0.744399  0.545455 -0.406767  0.0     0.160519   \n",
              "3          1.0      0.652997  0.796334  0.181818 -0.422769  1.0     0.126801   \n",
              "4         0.98      0.878023  0.691446  0.636364 -0.406081  0.0     0.104899   \n",
              "..         ...           ...       ...       ...       ...  ...          ...   \n",
              "145       0.56      0.717140  0.756619  0.818182 -0.811095  0.0     0.475504   \n",
              "146       0.56      0.924290  0.693483  0.909091 -0.682085  0.0     0.691643   \n",
              "147       0.56      0.544690  0.845214  0.545455 -0.519241  0.0     0.111239   \n",
              "148       0.56      0.548896  0.817719  0.090909 -0.443877  1.0     0.094236   \n",
              "149       0.56      0.839117  0.488798       0.0 -0.423988  1.0     0.079539   \n",
              "\n",
              "     acousticness  instrumentalness  liveness   valence     tempo duration_ms  \n",
              "0        0.014590          0.000005  0.434641  0.244604  0.647620    0.431399  \n",
              "1        0.004299          0.000007  0.606209  0.312436  0.632402    0.481688  \n",
              "2        0.383838          0.001025  0.508170  0.680370  0.859058    0.459876  \n",
              "3        0.014029          0.033503  0.375817  0.565262  0.632368    0.546833  \n",
              "4        0.654321          0.000002  0.356209  0.873587  0.617289    0.447053  \n",
              "..            ...               ...       ...       ...       ...         ...  \n",
              "145      0.392817          0.000131  0.452614  0.561151  0.632017    0.874876  \n",
              "146      0.019080          0.000000  0.109314  0.839671  0.493782    0.607916  \n",
              "147      0.045342          0.000004  0.612745  0.541624  0.471526    0.704049  \n",
              "148      0.001313          0.001695  0.506536  0.080473  0.667791     0.96804  \n",
              "149      0.277217          0.000000  0.387255  0.660843  0.534613    0.702584  \n",
              "\n",
              "[150 rows x 13 columns]"
            ],
            "text/html": [
              "\n",
              "  <div id=\"df-1b1320d4-5518-4d00-b429-1ef56dca70c1\">\n",
              "    <div class=\"colab-df-container\">\n",
              "      <div>\n",
              "<style scoped>\n",
              "    .dataframe tbody tr th:only-of-type {\n",
              "        vertical-align: middle;\n",
              "    }\n",
              "\n",
              "    .dataframe tbody tr th {\n",
              "        vertical-align: top;\n",
              "    }\n",
              "\n",
              "    .dataframe thead th {\n",
              "        text-align: right;\n",
              "    }\n",
              "</style>\n",
              "<table border=\"1\" class=\"dataframe\">\n",
              "  <thead>\n",
              "    <tr style=\"text-align: right;\">\n",
              "      <th></th>\n",
              "      <th>Popularity</th>\n",
              "      <th>danceability</th>\n",
              "      <th>energy</th>\n",
              "      <th>key</th>\n",
              "      <th>loudness</th>\n",
              "      <th>mode</th>\n",
              "      <th>speechiness</th>\n",
              "      <th>acousticness</th>\n",
              "      <th>instrumentalness</th>\n",
              "      <th>liveness</th>\n",
              "      <th>valence</th>\n",
              "      <th>tempo</th>\n",
              "      <th>duration_ms</th>\n",
              "    </tr>\n",
              "  </thead>\n",
              "  <tbody>\n",
              "    <tr>\n",
              "      <th>0</th>\n",
              "      <td>0.99</td>\n",
              "      <td>0.750789</td>\n",
              "      <td>0.480652</td>\n",
              "      <td>0.181818</td>\n",
              "      <td>-0.561990</td>\n",
              "      <td>1.0</td>\n",
              "      <td>0.248991</td>\n",
              "      <td>0.014590</td>\n",
              "      <td>0.000005</td>\n",
              "      <td>0.434641</td>\n",
              "      <td>0.244604</td>\n",
              "      <td>0.647620</td>\n",
              "      <td>0.431399</td>\n",
              "    </tr>\n",
              "    <tr>\n",
              "      <th>1</th>\n",
              "      <td>0.98</td>\n",
              "      <td>0.589905</td>\n",
              "      <td>0.982688</td>\n",
              "      <td>0.636364</td>\n",
              "      <td>-0.279890</td>\n",
              "      <td>0.0</td>\n",
              "      <td>0.098847</td>\n",
              "      <td>0.004299</td>\n",
              "      <td>0.000007</td>\n",
              "      <td>0.606209</td>\n",
              "      <td>0.312436</td>\n",
              "      <td>0.632402</td>\n",
              "      <td>0.481688</td>\n",
              "    </tr>\n",
              "    <tr>\n",
              "      <th>2</th>\n",
              "      <td>0.93</td>\n",
              "      <td>0.546793</td>\n",
              "      <td>0.744399</td>\n",
              "      <td>0.545455</td>\n",
              "      <td>-0.406767</td>\n",
              "      <td>0.0</td>\n",
              "      <td>0.160519</td>\n",
              "      <td>0.383838</td>\n",
              "      <td>0.001025</td>\n",
              "      <td>0.508170</td>\n",
              "      <td>0.680370</td>\n",
              "      <td>0.859058</td>\n",
              "      <td>0.459876</td>\n",
              "    </tr>\n",
              "    <tr>\n",
              "      <th>3</th>\n",
              "      <td>1.0</td>\n",
              "      <td>0.652997</td>\n",
              "      <td>0.796334</td>\n",
              "      <td>0.181818</td>\n",
              "      <td>-0.422769</td>\n",
              "      <td>1.0</td>\n",
              "      <td>0.126801</td>\n",
              "      <td>0.014029</td>\n",
              "      <td>0.033503</td>\n",
              "      <td>0.375817</td>\n",
              "      <td>0.565262</td>\n",
              "      <td>0.632368</td>\n",
              "      <td>0.546833</td>\n",
              "    </tr>\n",
              "    <tr>\n",
              "      <th>4</th>\n",
              "      <td>0.98</td>\n",
              "      <td>0.878023</td>\n",
              "      <td>0.691446</td>\n",
              "      <td>0.636364</td>\n",
              "      <td>-0.406081</td>\n",
              "      <td>0.0</td>\n",
              "      <td>0.104899</td>\n",
              "      <td>0.654321</td>\n",
              "      <td>0.000002</td>\n",
              "      <td>0.356209</td>\n",
              "      <td>0.873587</td>\n",
              "      <td>0.617289</td>\n",
              "      <td>0.447053</td>\n",
              "    </tr>\n",
              "    <tr>\n",
              "      <th>...</th>\n",
              "      <td>...</td>\n",
              "      <td>...</td>\n",
              "      <td>...</td>\n",
              "      <td>...</td>\n",
              "      <td>...</td>\n",
              "      <td>...</td>\n",
              "      <td>...</td>\n",
              "      <td>...</td>\n",
              "      <td>...</td>\n",
              "      <td>...</td>\n",
              "      <td>...</td>\n",
              "      <td>...</td>\n",
              "      <td>...</td>\n",
              "    </tr>\n",
              "    <tr>\n",
              "      <th>145</th>\n",
              "      <td>0.56</td>\n",
              "      <td>0.717140</td>\n",
              "      <td>0.756619</td>\n",
              "      <td>0.818182</td>\n",
              "      <td>-0.811095</td>\n",
              "      <td>0.0</td>\n",
              "      <td>0.475504</td>\n",
              "      <td>0.392817</td>\n",
              "      <td>0.000131</td>\n",
              "      <td>0.452614</td>\n",
              "      <td>0.561151</td>\n",
              "      <td>0.632017</td>\n",
              "      <td>0.874876</td>\n",
              "    </tr>\n",
              "    <tr>\n",
              "      <th>146</th>\n",
              "      <td>0.56</td>\n",
              "      <td>0.924290</td>\n",
              "      <td>0.693483</td>\n",
              "      <td>0.909091</td>\n",
              "      <td>-0.682085</td>\n",
              "      <td>0.0</td>\n",
              "      <td>0.691643</td>\n",
              "      <td>0.019080</td>\n",
              "      <td>0.000000</td>\n",
              "      <td>0.109314</td>\n",
              "      <td>0.839671</td>\n",
              "      <td>0.493782</td>\n",
              "      <td>0.607916</td>\n",
              "    </tr>\n",
              "    <tr>\n",
              "      <th>147</th>\n",
              "      <td>0.56</td>\n",
              "      <td>0.544690</td>\n",
              "      <td>0.845214</td>\n",
              "      <td>0.545455</td>\n",
              "      <td>-0.519241</td>\n",
              "      <td>0.0</td>\n",
              "      <td>0.111239</td>\n",
              "      <td>0.045342</td>\n",
              "      <td>0.000004</td>\n",
              "      <td>0.612745</td>\n",
              "      <td>0.541624</td>\n",
              "      <td>0.471526</td>\n",
              "      <td>0.704049</td>\n",
              "    </tr>\n",
              "    <tr>\n",
              "      <th>148</th>\n",
              "      <td>0.56</td>\n",
              "      <td>0.548896</td>\n",
              "      <td>0.817719</td>\n",
              "      <td>0.090909</td>\n",
              "      <td>-0.443877</td>\n",
              "      <td>1.0</td>\n",
              "      <td>0.094236</td>\n",
              "      <td>0.001313</td>\n",
              "      <td>0.001695</td>\n",
              "      <td>0.506536</td>\n",
              "      <td>0.080473</td>\n",
              "      <td>0.667791</td>\n",
              "      <td>0.96804</td>\n",
              "    </tr>\n",
              "    <tr>\n",
              "      <th>149</th>\n",
              "      <td>0.56</td>\n",
              "      <td>0.839117</td>\n",
              "      <td>0.488798</td>\n",
              "      <td>0.0</td>\n",
              "      <td>-0.423988</td>\n",
              "      <td>1.0</td>\n",
              "      <td>0.079539</td>\n",
              "      <td>0.277217</td>\n",
              "      <td>0.000000</td>\n",
              "      <td>0.387255</td>\n",
              "      <td>0.660843</td>\n",
              "      <td>0.534613</td>\n",
              "      <td>0.702584</td>\n",
              "    </tr>\n",
              "  </tbody>\n",
              "</table>\n",
              "<p>150 rows × 13 columns</p>\n",
              "</div>\n",
              "      <button class=\"colab-df-convert\" onclick=\"convertToInteractive('df-1b1320d4-5518-4d00-b429-1ef56dca70c1')\"\n",
              "              title=\"Convert this dataframe to an interactive table.\"\n",
              "              style=\"display:none;\">\n",
              "        \n",
              "  <svg xmlns=\"http://www.w3.org/2000/svg\" height=\"24px\"viewBox=\"0 0 24 24\"\n",
              "       width=\"24px\">\n",
              "    <path d=\"M0 0h24v24H0V0z\" fill=\"none\"/>\n",
              "    <path d=\"M18.56 5.44l.94 2.06.94-2.06 2.06-.94-2.06-.94-.94-2.06-.94 2.06-2.06.94zm-11 1L8.5 8.5l.94-2.06 2.06-.94-2.06-.94L8.5 2.5l-.94 2.06-2.06.94zm10 10l.94 2.06.94-2.06 2.06-.94-2.06-.94-.94-2.06-.94 2.06-2.06.94z\"/><path d=\"M17.41 7.96l-1.37-1.37c-.4-.4-.92-.59-1.43-.59-.52 0-1.04.2-1.43.59L10.3 9.45l-7.72 7.72c-.78.78-.78 2.05 0 2.83L4 21.41c.39.39.9.59 1.41.59.51 0 1.02-.2 1.41-.59l7.78-7.78 2.81-2.81c.8-.78.8-2.07 0-2.86zM5.41 20L4 18.59l7.72-7.72 1.47 1.35L5.41 20z\"/>\n",
              "  </svg>\n",
              "      </button>\n",
              "      \n",
              "  <style>\n",
              "    .colab-df-container {\n",
              "      display:flex;\n",
              "      flex-wrap:wrap;\n",
              "      gap: 12px;\n",
              "    }\n",
              "\n",
              "    .colab-df-convert {\n",
              "      background-color: #E8F0FE;\n",
              "      border: none;\n",
              "      border-radius: 50%;\n",
              "      cursor: pointer;\n",
              "      display: none;\n",
              "      fill: #1967D2;\n",
              "      height: 32px;\n",
              "      padding: 0 0 0 0;\n",
              "      width: 32px;\n",
              "    }\n",
              "\n",
              "    .colab-df-convert:hover {\n",
              "      background-color: #E2EBFA;\n",
              "      box-shadow: 0px 1px 2px rgba(60, 64, 67, 0.3), 0px 1px 3px 1px rgba(60, 64, 67, 0.15);\n",
              "      fill: #174EA6;\n",
              "    }\n",
              "\n",
              "    [theme=dark] .colab-df-convert {\n",
              "      background-color: #3B4455;\n",
              "      fill: #D2E3FC;\n",
              "    }\n",
              "\n",
              "    [theme=dark] .colab-df-convert:hover {\n",
              "      background-color: #434B5C;\n",
              "      box-shadow: 0px 1px 3px 1px rgba(0, 0, 0, 0.15);\n",
              "      filter: drop-shadow(0px 1px 2px rgba(0, 0, 0, 0.3));\n",
              "      fill: #FFFFFF;\n",
              "    }\n",
              "  </style>\n",
              "\n",
              "      <script>\n",
              "        const buttonEl =\n",
              "          document.querySelector('#df-1b1320d4-5518-4d00-b429-1ef56dca70c1 button.colab-df-convert');\n",
              "        buttonEl.style.display =\n",
              "          google.colab.kernel.accessAllowed ? 'block' : 'none';\n",
              "\n",
              "        async function convertToInteractive(key) {\n",
              "          const element = document.querySelector('#df-1b1320d4-5518-4d00-b429-1ef56dca70c1');\n",
              "          const dataTable =\n",
              "            await google.colab.kernel.invokeFunction('convertToInteractive',\n",
              "                                                     [key], {});\n",
              "          if (!dataTable) return;\n",
              "\n",
              "          const docLinkHtml = 'Like what you see? Visit the ' +\n",
              "            '<a target=\"_blank\" href=https://colab.research.google.com/notebooks/data_table.ipynb>data table notebook</a>'\n",
              "            + ' to learn more about interactive tables.';\n",
              "          element.innerHTML = '';\n",
              "          dataTable['output_type'] = 'display_data';\n",
              "          await google.colab.output.renderOutput(dataTable, element);\n",
              "          const docLink = document.createElement('div');\n",
              "          docLink.innerHTML = docLinkHtml;\n",
              "          element.appendChild(docLink);\n",
              "        }\n",
              "      </script>\n",
              "    </div>\n",
              "  </div>\n",
              "  "
            ]
          },
          "metadata": {},
          "execution_count": 51
        }
      ]
    },
    {
      "cell_type": "code",
      "source": [
        "df_max_scaled.to_excel(\"output.xlsx\") "
      ],
      "metadata": {
        "id": "lfnFey1CDGbS"
      },
      "execution_count": null,
      "outputs": []
    },
    {
      "cell_type": "code",
      "source": [
        "train, test = train_test_split(df_max_scaled, test_size=0.2, train_size=0.8, random_state=None, shuffle=True, stratify=None)"
      ],
      "metadata": {
        "id": "h2hY4Y-cDPAT"
      },
      "execution_count": null,
      "outputs": []
    },
    {
      "cell_type": "code",
      "source": [
        "x_train = train.drop(['Popularity'], axis=1)\n",
        "y_train = train['Popularity']\n",
        "x_test = test.drop(['Popularity'], axis=1)\n",
        "y_test = test['Popularity']"
      ],
      "metadata": {
        "id": "QErnYHRpEDBU"
      },
      "execution_count": null,
      "outputs": []
    },
    {
      "cell_type": "code",
      "source": [
        "model = Sequential()\n",
        "model.add(Dense(100, activation='elu'))\n",
        "model.add(Dense(80, activation='relu'))\n",
        "model.add(Dense(60, activation='gelu'))\n",
        "model.add(Dense(40, activation='relu'))\n",
        "model.add(Dense(20, activation='gelu'))\n",
        "model.add(Dense(24, activation='relu'))\n",
        "model.add(Dense(20, activation='gelu'))\n",
        "model.add(Dense(13, activation='sigmoid'))\n",
        "model.compile(loss='MeanAbsoluteError',\n",
        "optimizer='adamax',\n",
        "metrics=['MeanSquaredError'])\n",
        "model.fit(x_train, y_train, epochs=80, batch_size=1, verbose=1)"
      ],
      "metadata": {
        "id": "Cs_6oECMEF7N",
        "outputId": "a918046c-abd3-4d1b-c0e3-08ea57af6365",
        "colab": {
          "base_uri": "https://localhost:8080/",
          "height": 371
        }
      },
      "execution_count": null,
      "outputs": [
        {
          "output_type": "error",
          "ename": "ValueError",
          "evalue": "ignored",
          "traceback": [
            "\u001b[0;31m---------------------------------------------------------------------------\u001b[0m",
            "\u001b[0;31mValueError\u001b[0m                                Traceback (most recent call last)",
            "\u001b[0;32m<ipython-input-56-d454440721bd>\u001b[0m in \u001b[0;36m<module>\u001b[0;34m\u001b[0m\n\u001b[1;32m     11\u001b[0m \u001b[0moptimizer\u001b[0m\u001b[0;34m=\u001b[0m\u001b[0;34m'adamax'\u001b[0m\u001b[0;34m,\u001b[0m\u001b[0;34m\u001b[0m\u001b[0;34m\u001b[0m\u001b[0m\n\u001b[1;32m     12\u001b[0m metrics=['MeanSquaredError'])\n\u001b[0;32m---> 13\u001b[0;31m \u001b[0mmodel\u001b[0m\u001b[0;34m.\u001b[0m\u001b[0mfit\u001b[0m\u001b[0;34m(\u001b[0m\u001b[0mx_train\u001b[0m\u001b[0;34m,\u001b[0m \u001b[0my_train\u001b[0m\u001b[0;34m,\u001b[0m \u001b[0mepochs\u001b[0m\u001b[0;34m=\u001b[0m\u001b[0;36m80\u001b[0m\u001b[0;34m,\u001b[0m \u001b[0mbatch_size\u001b[0m\u001b[0;34m=\u001b[0m\u001b[0;36m1\u001b[0m\u001b[0;34m,\u001b[0m \u001b[0mverbose\u001b[0m\u001b[0;34m=\u001b[0m\u001b[0;36m1\u001b[0m\u001b[0;34m)\u001b[0m\u001b[0;34m\u001b[0m\u001b[0;34m\u001b[0m\u001b[0m\n\u001b[0m",
            "\u001b[0;32m/usr/local/lib/python3.7/dist-packages/keras/utils/traceback_utils.py\u001b[0m in \u001b[0;36merror_handler\u001b[0;34m(*args, **kwargs)\u001b[0m\n\u001b[1;32m     65\u001b[0m     \u001b[0;32mexcept\u001b[0m \u001b[0mException\u001b[0m \u001b[0;32mas\u001b[0m \u001b[0me\u001b[0m\u001b[0;34m:\u001b[0m  \u001b[0;31m# pylint: disable=broad-except\u001b[0m\u001b[0;34m\u001b[0m\u001b[0;34m\u001b[0m\u001b[0m\n\u001b[1;32m     66\u001b[0m       \u001b[0mfiltered_tb\u001b[0m \u001b[0;34m=\u001b[0m \u001b[0m_process_traceback_frames\u001b[0m\u001b[0;34m(\u001b[0m\u001b[0me\u001b[0m\u001b[0;34m.\u001b[0m\u001b[0m__traceback__\u001b[0m\u001b[0;34m)\u001b[0m\u001b[0;34m\u001b[0m\u001b[0;34m\u001b[0m\u001b[0m\n\u001b[0;32m---> 67\u001b[0;31m       \u001b[0;32mraise\u001b[0m \u001b[0me\u001b[0m\u001b[0;34m.\u001b[0m\u001b[0mwith_traceback\u001b[0m\u001b[0;34m(\u001b[0m\u001b[0mfiltered_tb\u001b[0m\u001b[0;34m)\u001b[0m \u001b[0;32mfrom\u001b[0m \u001b[0;32mNone\u001b[0m\u001b[0;34m\u001b[0m\u001b[0;34m\u001b[0m\u001b[0m\n\u001b[0m\u001b[1;32m     68\u001b[0m     \u001b[0;32mfinally\u001b[0m\u001b[0;34m:\u001b[0m\u001b[0;34m\u001b[0m\u001b[0;34m\u001b[0m\u001b[0m\n\u001b[1;32m     69\u001b[0m       \u001b[0;32mdel\u001b[0m \u001b[0mfiltered_tb\u001b[0m\u001b[0;34m\u001b[0m\u001b[0;34m\u001b[0m\u001b[0m\n",
            "\u001b[0;32m/usr/local/lib/python3.7/dist-packages/tensorflow/python/framework/constant_op.py\u001b[0m in \u001b[0;36mconvert_to_eager_tensor\u001b[0;34m(value, ctx, dtype)\u001b[0m\n\u001b[1;32m    100\u001b[0m       \u001b[0mdtype\u001b[0m \u001b[0;34m=\u001b[0m \u001b[0mdtypes\u001b[0m\u001b[0;34m.\u001b[0m\u001b[0mas_dtype\u001b[0m\u001b[0;34m(\u001b[0m\u001b[0mdtype\u001b[0m\u001b[0;34m)\u001b[0m\u001b[0;34m.\u001b[0m\u001b[0mas_datatype_enum\u001b[0m\u001b[0;34m\u001b[0m\u001b[0;34m\u001b[0m\u001b[0m\n\u001b[1;32m    101\u001b[0m   \u001b[0mctx\u001b[0m\u001b[0;34m.\u001b[0m\u001b[0mensure_initialized\u001b[0m\u001b[0;34m(\u001b[0m\u001b[0;34m)\u001b[0m\u001b[0;34m\u001b[0m\u001b[0;34m\u001b[0m\u001b[0m\n\u001b[0;32m--> 102\u001b[0;31m   \u001b[0;32mreturn\u001b[0m \u001b[0mops\u001b[0m\u001b[0;34m.\u001b[0m\u001b[0mEagerTensor\u001b[0m\u001b[0;34m(\u001b[0m\u001b[0mvalue\u001b[0m\u001b[0;34m,\u001b[0m \u001b[0mctx\u001b[0m\u001b[0;34m.\u001b[0m\u001b[0mdevice_name\u001b[0m\u001b[0;34m,\u001b[0m \u001b[0mdtype\u001b[0m\u001b[0;34m)\u001b[0m\u001b[0;34m\u001b[0m\u001b[0;34m\u001b[0m\u001b[0m\n\u001b[0m\u001b[1;32m    103\u001b[0m \u001b[0;34m\u001b[0m\u001b[0m\n\u001b[1;32m    104\u001b[0m \u001b[0;34m\u001b[0m\u001b[0m\n",
            "\u001b[0;31mValueError\u001b[0m: Failed to convert a NumPy array to a Tensor (Unsupported object type float)."
          ]
        }
      ]
    },
    {
      "cell_type": "code",
      "source": [],
      "metadata": {
        "id": "hns5WXJeEKBO"
      },
      "execution_count": null,
      "outputs": []
    }
  ]
}